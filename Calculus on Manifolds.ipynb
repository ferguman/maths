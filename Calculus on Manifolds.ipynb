{
 "cells": [
  {
   "cell_type": "markdown",
   "metadata": {},
   "source": [
    "## Chapter 1\n",
    "1-1 Prove that $|x| \\le \\sum_{i=1}^{n}|x^i|$\n",
    "\n",
    "We will work backwards from the right side of the above equation to directly derive the above result.\n",
    "\n",
    "$(\\sum_{i=1}^{n}|x^i|)^2 = \\sum_{i=1}^{n}|x^i|^2$ + a where a $\\ge$ 0\n",
    "\n",
    "$|x|^2 = \\sum_{i=1}^{n}|x^i|^2 \\le \\sum_{i=1}^{n}|x^i|^2 + a = (\\sum_{i=1}^{n}|x^i|)^2$\n",
    "\n",
    "So, the square function being monotonic on the positive reals we get:\n",
    "\n",
    "$|x| \\le \\sum_{i=1}^{n}|x^i|$\n"
   ]
  },
  {
   "cell_type": "markdown",
   "metadata": {},
   "source": []
  }
 ],
 "metadata": {
  "kernelspec": {
   "display_name": "Python 3",
   "language": "python",
   "name": "python3"
  },
  "language_info": {
   "codemirror_mode": {
    "name": "ipython",
    "version": 3
   },
   "file_extension": ".py",
   "mimetype": "text/x-python",
   "name": "python",
   "nbconvert_exporter": "python",
   "pygments_lexer": "ipython3",
   "version": "3.6.1"
  }
 },
 "nbformat": 4,
 "nbformat_minor": 2
}
