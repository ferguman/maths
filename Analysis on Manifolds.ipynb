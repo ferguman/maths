{
 "cells": [
  {
   "cell_type": "markdown",
   "metadata": {},
   "source": [
    "Chapter 1\n",
    "\n",
    "1. Cauchy-Schwarz and triangle inequality\n",
    "\n",
    "Prove the Cauchy-Schwarz inequality:  $\\langle x,y\\rangle \\le \\|x\\| \\|y\\|$\n",
    "We use the inner product multi-linearity rule to generate an expression that contains $<x,y> and <x,x> and <y,y>$ which can then be manipulated to show that the inequality holds.\n",
    "\n",
    "$\\|\\frac{x}{||x||} - \\frac{y}{||y||}\\|^ 2= \\langle \\frac{x}{||x||} - \\frac{y}{||y||},\\;\\frac{x}{||x||} - \\frac{y}{||y||} \\rangle \\ge 0$\n",
    "\n",
    "$ \\langle \\frac{x}{||x||},\\frac{x}{||x||}\\rangle + \\langle \\frac{y}{||y||}, \\frac{y}{||y||}\\rangle -2\\langle \\frac{x}{||x||}, \\frac{y}{||y||}\\rangle \\ge 0$\n",
    "\n",
    "$ \\langle x,x\\rangle/||x||^2 + \\langle y,y\\rangle/||y||^2 -(2*\\langle x,y\\rangle)/(||x||*||y||)   \\ge 0$\n",
    "\n",
    "$ 1 + 1 - \\frac {(2*\\langle x,y\\rangle)} {(||x||*||y||)} \\ge 0$\n",
    "\n",
    "$ -\\langle x,y\\rangle  \\ge -||x||*||y||$\n",
    "\n",
    "$ \\langle x,y\\rangle \\le ||x||*||y||$\n",
    "\n",
    "Prove the triangle inequality: $\\|x+y\\| \\le \\|x\\| + \\|y\\|$\n",
    "\n",
    "We merely write out $\\|x+y\\|$ as an inner product and the relationship then becomes apparent.\n",
    "\n",
    "$\\|x\\;+\\;y\\|^2 = \\langle x+y\\;,\\;x+y\\rangle$\n",
    "\n",
    "$=\\langle x\\;,x\\rangle + \\langle y\\;,y\\rangle + 2\\langle x\\;,y\\rangle$\n",
    "\n",
    "Note that $\\langle x\\;,y\\rangle \\le \\|x\\| \\|y\\|$ (Cauchy-Schwarz inequality), thus\n",
    "\n",
    "$\\|x\\;+\\;y\\|^2 \\le \\langle x\\;,x\\rangle + \\langle y\\;,y\\rangle + 2*\\|x\\| \\|y\\|$\n",
    " \n",
    "$\\|x\\;+\\;y\\|^2 \\le (\\|x\\|\\;+\\;\\|y\\|)^2$\n",
    "\n",
    "Note that if we assume that $A \\ge B$ and then apply the postulates of the ordered field we can derive the following relationships:\n",
    "\n",
    "$AA \\ge AB$ and\n",
    "\n",
    "$AB \\ge BB$ so \n",
    "\n",
    "$A \\ge B$\n",
    "\n",
    "Conversly if $AA \\ge BB$ and $A$ and $B$ are both $\\gt 0$ then\n",
    "\n",
    "$A \\ge B$ because if this is not so then $A \\lt B$ which means that $AA \\lt BB$ which contradicts the assumption.\n",
    "\n",
    "So we can deduce that\n",
    "\n",
    "$\\|x\\;+\\;y\\| \\le \\|x\\|\\;+\\;\\|y\\|$\n",
    "\n",
    "Prove that $\\|x - y\\| \\ge \\|x\\| - \\|y\\|$\n",
    "\n",
    "We write $\\|x-y\\|$ as an inner product and the relationship then becomes apparent.\n",
    "\n",
    "$\\|x-y\\|^2 = \\langle x\\;-\\;y\\;,x\\;-\\;y\\rangle \\ge 0$\n",
    "\n",
    "$=\\langle x\\;,x\\rangle + \\langle y\\;,y\\rangle - 2\\langle x\\;,y\\rangle$\n",
    "\n",
    "Note that $-\\langle x\\;,y\\rangle \\ge -\\|x\\| \\|y\\|$ (Cauchy-Schwarz inequality), thus\n",
    "\n",
    "$\\|x\\;+\\;y\\|^2 \\ge \\langle x\\;,x\\rangle + \\langle y\\;,y\\rangle - 2*\\|x\\| \\|y\\|$\n",
    "\n",
    "$\\|x\\;+\\;y\\|^2 \\ge (\\|x\\|\\;-\\;\\|y\\|)^2$\n",
    "\n",
    "$\\|x\\;+\\;y\\| \\ge \\|x\\|\\;-\\;\\|y\\|$\n",
    "\n",
    "\n"
   ]
  },
  {
   "cell_type": "code",
   "execution_count": null,
   "metadata": {},
   "outputs": [],
   "source": []
  },
  {
   "cell_type": "code",
   "execution_count": null,
   "metadata": {},
   "outputs": [],
   "source": []
  },
  {
   "cell_type": "code",
   "execution_count": null,
   "metadata": {},
   "outputs": [],
   "source": []
  }
 ],
 "metadata": {
  "kernelspec": {
   "display_name": "Python 3",
   "language": "python",
   "name": "python3"
  },
  "language_info": {
   "codemirror_mode": {
    "name": "ipython",
    "version": 3
   },
   "file_extension": ".py",
   "mimetype": "text/x-python",
   "name": "python",
   "nbconvert_exporter": "python",
   "pygments_lexer": "ipython3",
   "version": "3.6.1"
  }
 },
 "nbformat": 4,
 "nbformat_minor": 2
}
